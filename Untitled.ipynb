{
 "cells": [
  {
   "cell_type": "code",
   "execution_count": 1,
   "metadata": {},
   "outputs": [],
   "source": [
    "from People import People"
   ]
  },
  {
   "cell_type": "code",
   "execution_count": 3,
   "metadata": {},
   "outputs": [
    {
     "data": {
      "text/plain": [
       "' Hall 8 '"
      ]
     },
     "execution_count": 3,
     "metadata": {},
     "output_type": "execute_result"
    }
   ],
   "source": [
    "People.chooseDisembarkLocation(' SBS ','red')"
   ]
  },
  {
   "cell_type": "code",
   "execution_count": 4,
   "metadata": {},
   "outputs": [],
   "source": [
    "from Route import Route"
   ]
  },
  {
   "cell_type": "code",
   "execution_count": 5,
   "metadata": {},
   "outputs": [],
   "source": [
    "deets = Route.getDetails('red')"
   ]
  },
  {
   "cell_type": "code",
   "execution_count": 6,
   "metadata": {},
   "outputs": [],
   "source": [
    "deets2 = deets"
   ]
  },
  {
   "cell_type": "code",
   "execution_count": 7,
   "metadata": {},
   "outputs": [],
   "source": [
    "reqd_stop = ' SBS '"
   ]
  },
  {
   "cell_type": "code",
   "execution_count": 9,
   "metadata": {},
   "outputs": [
    {
     "data": {
      "text/plain": [
       "{'nextStop': ' WKWSCI ',\n",
       " 'roadWeight': 300,\n",
       " 'removal': 0,\n",
       " 'prev': ' LWN Library '}"
      ]
     },
     "execution_count": 9,
     "metadata": {},
     "output_type": "execute_result"
    }
   ],
   "source": [
    "deets[reqd_stop]"
   ]
  },
  {
   "cell_type": "code",
   "execution_count": 6,
   "metadata": {},
   "outputs": [],
   "source": [
    "    def fn(reqd_stop,deets):\n",
    "        deets[reqd_stop]['removal'] = 0\n",
    "        x = 0\n",
    "        stop = deets[reqd_stop]['nextStop']\n",
    "        deets[stop]['prev'] = reqd_stop\n",
    "        while stop!= reqd_stop:\n",
    "            x+=1\n",
    "            deets[stop]['removal'] = x\n",
    "            nextStop = deets[stop]['nextStop']\n",
    "            deets[nextStop]['prev'] = stop\n",
    "            stop = nextStop\n",
    "\n",
    "        prev = deets[stop]['prev']\n",
    "        x= 1\n",
    "        deets[prev]['removal'] = min(deets[prev]['removal'],x)\n",
    "        while prev!= reqd_stop:\n",
    "            prev = deets[prev]['prev']\n",
    "            x+=1\n",
    "            deets[prev]['removal'] = min(deets[prev]['removal'],x)\n",
    "        return deets"
   ]
  },
  {
   "cell_type": "code",
   "execution_count": 7,
   "metadata": {},
   "outputs": [
    {
     "data": {
      "text/plain": [
       "{' LWN Library ': {'nextStop': ' SBS ',\n",
       "  'roadWeight': 550,\n",
       "  'prev': ' Hall 12&13 ',\n",
       "  'removal': 1},\n",
       " ' SBS ': {'nextStop': ' WKWSCI ',\n",
       "  'roadWeight': 300,\n",
       "  'removal': 0,\n",
       "  'prev': ' LWN Library '},\n",
       " ' WKWSCI ': {'nextStop': ' Hall 7 ',\n",
       "  'roadWeight': 400,\n",
       "  'prev': ' SBS ',\n",
       "  'removal': 1},\n",
       " ' Hall 7 ': {'nextStop': ' Yunnan Gardens ',\n",
       "  'roadWeight': 550,\n",
       "  'prev': ' WKWSCI ',\n",
       "  'removal': 2},\n",
       " ' Yunnan Gardens ': {'nextStop': ' Hall 4 ',\n",
       "  'roadWeight': 250,\n",
       "  'prev': ' Hall 7 ',\n",
       "  'removal': 3},\n",
       " ' Hall 4 ': {'nextStop': ' Hall 1 - Blk 18 ',\n",
       "  'roadWeight': 300,\n",
       "  'prev': ' Yunnan Gardens ',\n",
       "  'removal': 4},\n",
       " ' Hall 1 - Blk 18 ': {'nextStop': ' Canteen 2 ',\n",
       "  'roadWeight': 550,\n",
       "  'prev': ' Hall 4 ',\n",
       "  'removal': 5},\n",
       " ' Canteen 2 ': {'nextStop': ' Hall 8 ',\n",
       "  'roadWeight': 400,\n",
       "  'prev': ' Hall 1 - Blk 18 ',\n",
       "  'removal': 6},\n",
       " ' Hall 8 ': {'nextStop': ' Hall 11 ',\n",
       "  'roadWeight': 340,\n",
       "  'prev': ' Canteen 2 ',\n",
       "  'removal': 6},\n",
       " ' Hall 11 ': {'nextStop': ' Grad Hall 1&2 ',\n",
       "  'roadWeight': 400,\n",
       "  'prev': ' Hall 8 ',\n",
       "  'removal': 5},\n",
       " ' Grad Hall 1&2 ': {'nextStop': ' Saraca Hall ',\n",
       "  'roadWeight': 300,\n",
       "  'prev': ' Hall 11 ',\n",
       "  'removal': 4},\n",
       " ' Saraca Hall ': {'nextStop': ' Hall 12&13 ',\n",
       "  'roadWeight': 600,\n",
       "  'prev': ' Grad Hall 1&2 ',\n",
       "  'removal': 3},\n",
       " ' Hall 12&13 ': {'nextStop': ' LWN Library ',\n",
       "  'roadWeight': 700,\n",
       "  'prev': ' Saraca Hall ',\n",
       "  'removal': 2}}"
      ]
     },
     "execution_count": 7,
     "metadata": {},
     "output_type": "execute_result"
    }
   ],
   "source": [
    "fn(reqd_stop,deets)"
   ]
  },
  {
   "cell_type": "code",
   "execution_count": 8,
   "metadata": {},
   "outputs": [
    {
     "data": {
      "text/plain": [
       "{' LWN Library ': {'nextStop': ' SBS ',\n",
       "  'roadWeight': 550,\n",
       "  'prev': ' Hall 12&13 ',\n",
       "  'removal': 1},\n",
       " ' SBS ': {'nextStop': ' WKWSCI ',\n",
       "  'roadWeight': 300,\n",
       "  'removal': 0,\n",
       "  'prev': ' LWN Library '},\n",
       " ' WKWSCI ': {'nextStop': ' Hall 7 ',\n",
       "  'roadWeight': 400,\n",
       "  'prev': ' SBS ',\n",
       "  'removal': 1},\n",
       " ' Hall 7 ': {'nextStop': ' Yunnan Gardens ',\n",
       "  'roadWeight': 550,\n",
       "  'prev': ' WKWSCI ',\n",
       "  'removal': 2},\n",
       " ' Yunnan Gardens ': {'nextStop': ' Hall 4 ',\n",
       "  'roadWeight': 250,\n",
       "  'prev': ' Hall 7 ',\n",
       "  'removal': 3},\n",
       " ' Hall 4 ': {'nextStop': ' Hall 1 - Blk 18 ',\n",
       "  'roadWeight': 300,\n",
       "  'prev': ' Yunnan Gardens ',\n",
       "  'removal': 4},\n",
       " ' Hall 1 - Blk 18 ': {'nextStop': ' Canteen 2 ',\n",
       "  'roadWeight': 550,\n",
       "  'prev': ' Hall 4 ',\n",
       "  'removal': 5},\n",
       " ' Canteen 2 ': {'nextStop': ' Hall 8 ',\n",
       "  'roadWeight': 400,\n",
       "  'prev': ' Hall 1 - Blk 18 ',\n",
       "  'removal': 6},\n",
       " ' Hall 8 ': {'nextStop': ' Hall 11 ',\n",
       "  'roadWeight': 340,\n",
       "  'prev': ' Canteen 2 ',\n",
       "  'removal': 6},\n",
       " ' Hall 11 ': {'nextStop': ' Grad Hall 1&2 ',\n",
       "  'roadWeight': 400,\n",
       "  'prev': ' Hall 8 ',\n",
       "  'removal': 5},\n",
       " ' Grad Hall 1&2 ': {'nextStop': ' Saraca Hall ',\n",
       "  'roadWeight': 300,\n",
       "  'prev': ' Hall 11 ',\n",
       "  'removal': 4},\n",
       " ' Saraca Hall ': {'nextStop': ' Hall 12&13 ',\n",
       "  'roadWeight': 600,\n",
       "  'prev': ' Grad Hall 1&2 ',\n",
       "  'removal': 3},\n",
       " ' Hall 12&13 ': {'nextStop': ' LWN Library ',\n",
       "  'roadWeight': 700,\n",
       "  'prev': ' Saraca Hall ',\n",
       "  'removal': 2}}"
      ]
     },
     "execution_count": 8,
     "metadata": {},
     "output_type": "execute_result"
    }
   ],
   "source": [
    "deets2"
   ]
  },
  {
   "cell_type": "code",
   "execution_count": 52,
   "metadata": {},
   "outputs": [],
   "source": [
    "import random\n",
    "def chooseDisembarkLocation(curStop,route):\n",
    "        # complete this\n",
    "        routeDetails = Route.getDetails(route)\n",
    "\n",
    "        def fn(reqd_stop,deets):\n",
    "            deets[reqd_stop]['removal'] = 0\n",
    "            x = 0\n",
    "            stop = deets[reqd_stop]['nextStop']\n",
    "            deets[stop]['prev'] = reqd_stop\n",
    "            while stop!= reqd_stop:\n",
    "                x+=1\n",
    "                deets[stop]['removal'] = x\n",
    "                nextStop = deets[stop]['nextStop']\n",
    "                deets[nextStop]['prev'] = stop\n",
    "                stop = nextStop\n",
    "            \n",
    "            prev = deets[stop]['prev']\n",
    "            x= 1\n",
    "            deets[prev]['removal'] = min(deets[prev]['removal'],x)\n",
    "            while prev!= reqd_stop:\n",
    "                prev = deets[prev]['prev']\n",
    "                x+=1\n",
    "                deets[prev]['removal'] = min(deets[prev]['removal'],x)\n",
    "            return deets\n",
    "\n",
    "        routeDetails = fn(curStop,routeDetails)\n",
    "        total = 0\n",
    "        for key,value in routeDetails.items():\n",
    "            if key==curStop:\n",
    "                continue\n",
    "            total+=value['removal']\n",
    "\n",
    "        randVal = random.randint(0,total-1)\n",
    "        \n",
    "        total = 0\n",
    "        for key,value in routeDetails.items():\n",
    "            if key==curStop:\n",
    "                continue\n",
    "            total+=value['removal']\n",
    "            if randVal<total:\n",
    "                break\n",
    "        \n",
    "        return key\n"
   ]
  },
  {
   "cell_type": "code",
   "execution_count": 53,
   "metadata": {},
   "outputs": [],
   "source": [
    "route = \"red\""
   ]
  },
  {
   "cell_type": "code",
   "execution_count": 54,
   "metadata": {},
   "outputs": [],
   "source": [
    "curStop = reqd_stop"
   ]
  },
  {
   "cell_type": "code",
   "execution_count": 67,
   "metadata": {},
   "outputs": [
    {
     "data": {
      "text/plain": [
       "' Grad Hall 1&2 '"
      ]
     },
     "execution_count": 67,
     "metadata": {},
     "output_type": "execute_result"
    }
   ],
   "source": [
    "chooseDisembarkLocation(curStop,route)"
   ]
  },
  {
   "cell_type": "code",
   "execution_count": 62,
   "metadata": {},
   "outputs": [
    {
     "data": {
      "text/plain": [
       "{' LWN Library ': {'nextStop': ' SBS ',\n",
       "  'roadWeight': 550,\n",
       "  'prev': ' Hall 12&13 ',\n",
       "  'removal': 1},\n",
       " ' SBS ': {'nextStop': ' WKWSCI ',\n",
       "  'roadWeight': 300,\n",
       "  'removal': 0,\n",
       "  'prev': ' LWN Library '},\n",
       " ' WKWSCI ': {'nextStop': ' Hall 7 ',\n",
       "  'roadWeight': 400,\n",
       "  'prev': ' SBS ',\n",
       "  'removal': 1},\n",
       " ' Hall 7 ': {'nextStop': ' Yunnan Gardens ',\n",
       "  'roadWeight': 550,\n",
       "  'prev': ' WKWSCI ',\n",
       "  'removal': 2},\n",
       " ' Yunnan Gardens ': {'nextStop': ' Hall 4 ',\n",
       "  'roadWeight': 250,\n",
       "  'prev': ' Hall 7 ',\n",
       "  'removal': 3},\n",
       " ' Hall 4 ': {'nextStop': ' Hall 1 - Blk 18 ',\n",
       "  'roadWeight': 300,\n",
       "  'prev': ' Yunnan Gardens ',\n",
       "  'removal': 4},\n",
       " ' Hall 1 - Blk 18 ': {'nextStop': ' Canteen 2 ',\n",
       "  'roadWeight': 550,\n",
       "  'prev': ' Hall 4 ',\n",
       "  'removal': 5},\n",
       " ' Canteen 2 ': {'nextStop': ' Hall 8 ',\n",
       "  'roadWeight': 400,\n",
       "  'prev': ' Hall 1 - Blk 18 ',\n",
       "  'removal': 6},\n",
       " ' Hall 8 ': {'nextStop': ' Hall 11 ',\n",
       "  'roadWeight': 340,\n",
       "  'prev': ' Canteen 2 ',\n",
       "  'removal': 6},\n",
       " ' Hall 11 ': {'nextStop': ' Grad Hall 1&2 ',\n",
       "  'roadWeight': 400,\n",
       "  'prev': ' Hall 8 ',\n",
       "  'removal': 5},\n",
       " ' Grad Hall 1&2 ': {'nextStop': ' Saraca Hall ',\n",
       "  'roadWeight': 300,\n",
       "  'prev': ' Hall 11 ',\n",
       "  'removal': 4},\n",
       " ' Saraca Hall ': {'nextStop': ' Hall 12&13 ',\n",
       "  'roadWeight': 600,\n",
       "  'prev': ' Grad Hall 1&2 ',\n",
       "  'removal': 3},\n",
       " ' Hall 12&13 ': {'nextStop': ' LWN Library ',\n",
       "  'roadWeight': 700,\n",
       "  'prev': ' Saraca Hall ',\n",
       "  'removal': 2}}"
      ]
     },
     "execution_count": 62,
     "metadata": {},
     "output_type": "execute_result"
    }
   ],
   "source": [
    "deets"
   ]
  },
  {
   "cell_type": "code",
   "execution_count": null,
   "metadata": {},
   "outputs": [],
   "source": []
  }
 ],
 "metadata": {
  "kernelspec": {
   "display_name": "Python 3",
   "language": "python",
   "name": "python3"
  },
  "language_info": {
   "codemirror_mode": {
    "name": "ipython",
    "version": 3
   },
   "file_extension": ".py",
   "mimetype": "text/x-python",
   "name": "python",
   "nbconvert_exporter": "python",
   "pygments_lexer": "ipython3",
   "version": "3.6.8"
  }
 },
 "nbformat": 4,
 "nbformat_minor": 2
}
