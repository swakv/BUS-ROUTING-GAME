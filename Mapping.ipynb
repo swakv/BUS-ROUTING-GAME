{
 "cells": [
  {
   "cell_type": "code",
   "execution_count": 2,
   "metadata": {},
   "outputs": [],
   "source": [
    "from Route import Route"
   ]
  },
  {
   "cell_type": "code",
   "execution_count": 4,
   "metadata": {},
   "outputs": [],
   "source": [
    "red_mapping = {(' Hall 11 ',1) : 0}"
   ]
  },
  {
   "cell_type": "code",
   "execution_count": 6,
   "metadata": {},
   "outputs": [],
   "source": [
    "cur_val = 0\n",
    "currentLocation = (' Hall 11 ',1)\n",
    "while True:\n",
    "    cur_val+=1\n",
    "    lastVistedStop = currentLocation[0]\n",
    "    distance = currentLocation[1]\n",
    "\n",
    "    # fetch route deets\n",
    "    routeDetails = Route.getDetails('red')\n",
    "\n",
    "    # check whether next stop has been reached\n",
    "    if routeDetails[lastVistedStop][\"roadWeight\"] == distance+1:\n",
    "\n",
    "        # store nextStop and update current location\n",
    "        nextStop = routeDetails[lastVistedStop][\"nextStop\"]\n",
    "\n",
    "        currentLocation = (nextStop,0)\n",
    "\n",
    "    else:\n",
    "\n",
    "        # update current location\n",
    "        currentLocation = (lastVistedStop, distance+1)\n",
    "    \n",
    "    if currentLocation == (' Hall 11 ',1):\n",
    "        break\n",
    "    else:\n",
    "        red_mapping[currentLocation] = cur_val"
   ]
  },
  {
   "cell_type": "code",
   "execution_count": 7,
   "metadata": {},
   "outputs": [
    {
     "data": {
      "text/plain": [
       "{(' Hall 11 ', 1): 0,\n",
       " (' Grad Hall 1&2 ', 0): 1,\n",
       " (' Grad Hall 1&2 ', 1): 2,\n",
       " (' Saraca Hall ', 0): 3,\n",
       " (' Saraca Hall ', 1): 4,\n",
       " (' Hall 12&13 ', 0): 5,\n",
       " (' Hall 12&13 ', 1): 6,\n",
       " (' Hall 12&13 ', 2): 7,\n",
       " (' LWN Library ', 0): 8,\n",
       " (' LWN Library ', 1): 9,\n",
       " (' LWN Library ', 2): 10,\n",
       " (' SBS ', 0): 11,\n",
       " (' SBS ', 1): 12,\n",
       " (' WKWSCI ', 0): 13,\n",
       " (' WKWSCI ', 1): 14,\n",
       " (' Hall 7 ', 0): 15,\n",
       " (' Hall 7 ', 1): 16,\n",
       " (' Yunnan Gardens ', 0): 17,\n",
       " (' Yunnan Gardens ', 1): 18,\n",
       " (' Yunnan Gardens ', 2): 19,\n",
       " (' Hall 4 ', 0): 20,\n",
       " (' Hall 4 ', 1): 21,\n",
       " (' Hall 1 - Blk 18 ', 0): 22,\n",
       " (' Hall 1 - Blk 18 ', 1): 23,\n",
       " (' Canteen 2 ', 0): 24,\n",
       " (' Canteen 2 ', 1): 25,\n",
       " (' Hall 8 ', 0): 26,\n",
       " (' Hall 8 ', 1): 27,\n",
       " (' Hall 11 ', 0): 28}"
      ]
     },
     "execution_count": 7,
     "metadata": {},
     "output_type": "execute_result"
    }
   ],
   "source": [
    "red_mapping"
   ]
  },
  {
   "cell_type": "code",
   "execution_count": 8,
   "metadata": {},
   "outputs": [],
   "source": [
    "blue_mapping = {(' Opp Hall 11 ',0):0}"
   ]
  },
  {
   "cell_type": "code",
   "execution_count": 10,
   "metadata": {},
   "outputs": [],
   "source": [
    "cur_val = 0\n",
    "currentLocation = (' Opp Hall 11 ',0)\n",
    "while True:\n",
    "    cur_val+=1\n",
    "    lastVistedStop = currentLocation[0]\n",
    "    distance = currentLocation[1]\n",
    "\n",
    "    # fetch route deets\n",
    "    routeDetails = Route.getDetails('blue')\n",
    "\n",
    "    # check whether next stop has been reached\n",
    "    if routeDetails[lastVistedStop][\"roadWeight\"] == distance+1:\n",
    "\n",
    "        # store nextStop and update current location\n",
    "        nextStop = routeDetails[lastVistedStop][\"nextStop\"]\n",
    "\n",
    "        currentLocation = (nextStop,0)\n",
    "\n",
    "    else:\n",
    "\n",
    "        # update current location\n",
    "        currentLocation = (lastVistedStop, distance+1)\n",
    "    \n",
    "    if currentLocation == (' Opp Hall 11 ',0):\n",
    "        break\n",
    "    else:\n",
    "        blue_mapping[currentLocation] = cur_val"
   ]
  },
  {
   "cell_type": "code",
   "execution_count": 11,
   "metadata": {},
   "outputs": [
    {
     "data": {
      "text/plain": [
       "{(' Opp Hall 11 ', 0): 0,\n",
       " (' Opp Hall 11 ', 1): 1,\n",
       " (' Opp Hall 8 ', 0): 2,\n",
       " (' Opp Hall 8 ', 1): 3,\n",
       " (' Opp Hall 8 ', 2): 4,\n",
       " (' Hall 6 ', 0): 5,\n",
       " (' Hall 6 ', 1): 6,\n",
       " (' Hall 6 ', 2): 7,\n",
       " (' Opp Hall 4 ', 0): 8,\n",
       " (' Opp Hall 4 ', 1): 9,\n",
       " (' Opp Hall 4 ', 2): 10,\n",
       " (' Opp Yunnan Gardens ', 0): 11,\n",
       " (' Opp Yunnan Gardens ', 1): 12,\n",
       " (' Opp SPMS ', 0): 13,\n",
       " (' Opp SPMS ', 1): 14,\n",
       " (' Opp WKWSCI ', 0): 15,\n",
       " (' Opp WKWSCI ', 1): 16,\n",
       " (' Opp CEE ', 0): 17,\n",
       " (' Opp CEE ', 1): 18,\n",
       " (' NIE ', 0): 19,\n",
       " (' NIE ', 1): 20,\n",
       " (' NIE ', 2): 21,\n",
       " (' Opp Hall 3 & 16 ', 0): 22,\n",
       " (' Opp Hall 3 & 16 ', 1): 23,\n",
       " (' Opp Hall 14 & 15 ', 0): 24,\n",
       " (' Opp Hall 14 & 15 ', 1): 25,\n",
       " (' Opp Saraca Hall ', 0): 26,\n",
       " (' Opp Saraca Hall ', 1): 27,\n",
       " (' Opp Saraca Hall ', 2): 28}"
      ]
     },
     "execution_count": 11,
     "metadata": {},
     "output_type": "execute_result"
    }
   ],
   "source": [
    "blue_mapping"
   ]
  },
  {
   "cell_type": "code",
   "execution_count": null,
   "metadata": {},
   "outputs": [],
   "source": []
  }
 ],
 "metadata": {
  "kernelspec": {
   "display_name": "Python 3",
   "language": "python",
   "name": "python3"
  },
  "language_info": {
   "codemirror_mode": {
    "name": "ipython",
    "version": 3
   },
   "file_extension": ".py",
   "mimetype": "text/x-python",
   "name": "python",
   "nbconvert_exporter": "python",
   "pygments_lexer": "ipython3",
   "version": "3.6.8"
  }
 },
 "nbformat": 4,
 "nbformat_minor": 2
}
